{
  "nbformat": 4,
  "nbformat_minor": 0,
  "metadata": {
    "colab": {
      "provenance": [],
      "authorship_tag": "ABX9TyMI/pqyJe89dZXMwhl2st89",
      "include_colab_link": true
    },
    "kernelspec": {
      "name": "python3",
      "display_name": "Python 3"
    },
    "language_info": {
      "name": "python"
    }
  },
  "cells": [
    {
      "cell_type": "markdown",
      "metadata": {
        "id": "view-in-github",
        "colab_type": "text"
      },
      "source": [
        "<a href=\"https://colab.research.google.com/github/NBK-code/PyTorch_Basics/blob/main/PyTorch_Regression.ipynb\" target=\"_parent\"><img src=\"https://colab.research.google.com/assets/colab-badge.svg\" alt=\"Open In Colab\"/></a>"
      ]
    },
    {
      "cell_type": "markdown",
      "source": [
        "##Regression done manually"
      ],
      "metadata": {
        "id": "kt9Nb5vHm-jK"
      }
    },
    {
      "cell_type": "code",
      "source": [
        "import numpy as np"
      ],
      "metadata": {
        "id": "-T6ZDwbKTMwG"
      },
      "execution_count": 2,
      "outputs": []
    },
    {
      "cell_type": "code",
      "source": [
        "# f = 2 * x\n",
        "\n",
        "X = np.array([1,2,3,4], dtype = np.float32)\n",
        "Y = np.array([2,4,6,8], dtype = np.float32)"
      ],
      "metadata": {
        "id": "4ZIj2XvdbJ8N"
      },
      "execution_count": 10,
      "outputs": []
    },
    {
      "cell_type": "code",
      "source": [
        "w = 0.0"
      ],
      "metadata": {
        "id": "v48InNxjbeSc"
      },
      "execution_count": 18,
      "outputs": []
    },
    {
      "cell_type": "code",
      "source": [
        "# model prediction\n",
        "\n",
        "def forward(x):\n",
        "  return w*x"
      ],
      "metadata": {
        "id": "QyGFnV-fbfvv"
      },
      "execution_count": 7,
      "outputs": []
    },
    {
      "cell_type": "code",
      "source": [
        "# loss\n",
        "\n",
        "def loss(y, y_predicted):\n",
        "  return ((y_predicted - y)**2).mean()"
      ],
      "metadata": {
        "id": "ev-6QZY_hnbN"
      },
      "execution_count": 8,
      "outputs": []
    },
    {
      "cell_type": "code",
      "source": [
        "# gradient\n",
        "\n",
        "# J = 1/N * (w*x - y)**2\n",
        "\n",
        "# dJ/dw = 2/N * (w*x - y)*x\n",
        "\n",
        "def gradient(x,y,y_predicted):\n",
        "  return np.dot((y_predicted - y), 2*x).mean()"
      ],
      "metadata": {
        "id": "usuTwODhh09y"
      },
      "execution_count": 9,
      "outputs": []
    },
    {
      "cell_type": "code",
      "source": [
        "learning_rate = 0.01\n",
        "n_iter = 20\n",
        "\n",
        "for epoch in range(n_iter):\n",
        "  y_pred = forward(X)\n",
        "\n",
        "  l = loss(Y, y_pred)\n",
        "\n",
        "  dw = gradient(X, Y, y_pred)\n",
        "\n",
        "  w = w - learning_rate*dw\n",
        "  \n",
        "  if epoch%2 == 0:\n",
        "    print(\"Epoch:\", epoch + 1, \"weight w = :\", w, \"loss J = \", l)\n"
      ],
      "metadata": {
        "colab": {
          "base_uri": "https://localhost:8080/"
        },
        "id": "FD9YUAhukBFc",
        "outputId": "60c3f797-0005-4db5-bd24-8d38eebafd7b"
      },
      "execution_count": 19,
      "outputs": [
        {
          "output_type": "stream",
          "name": "stdout",
          "text": [
            "Epoch: 1 weight w = : 1.2 loss J =  30.0\n",
            "Epoch: 3 weight w = : 1.871999988555908 loss J =  0.7680002\n",
            "Epoch: 5 weight w = : 1.9795200133323667 loss J =  0.019660834\n",
            "Epoch: 7 weight w = : 1.9967231869697568 loss J =  0.000503308\n",
            "Epoch: 9 weight w = : 1.999475698471069 loss J =  1.2884395e-05\n",
            "Epoch: 11 weight w = : 1.9999160599708554 loss J =  3.29734e-07\n",
            "Epoch: 13 weight w = : 1.9999865984916685 loss J =  8.487817e-09\n",
            "Epoch: 15 weight w = : 1.9999978351593015 loss J =  2.1679014e-10\n",
            "Epoch: 17 weight w = : 1.9999996304512022 loss J =  5.076828e-12\n",
            "Epoch: 19 weight w = : 1.9999999165534972 loss J =  1.314504e-13\n"
          ]
        }
      ]
    },
    {
      "cell_type": "markdown",
      "source": [
        "##Regression with gradients calculated using PyTorch"
      ],
      "metadata": {
        "id": "RGY2HaxmnEIZ"
      }
    },
    {
      "cell_type": "code",
      "source": [
        "import torch"
      ],
      "metadata": {
        "id": "-aRovOBDlSM1"
      },
      "execution_count": 20,
      "outputs": []
    },
    {
      "cell_type": "code",
      "source": [
        "X = torch.tensor([1,2,3,4], dtype = torch.float32)\n",
        "Y = torch.tensor([2,4,6,8], dtype = torch.float32)"
      ],
      "metadata": {
        "id": "ZrAb7Y8nnOhG"
      },
      "execution_count": 36,
      "outputs": []
    },
    {
      "cell_type": "code",
      "source": [
        "w = torch.tensor(0.0, dtype = torch.float32, \n",
        "                 requires_grad=True)"
      ],
      "metadata": {
        "id": "_Y_ppJQsn-SX"
      },
      "execution_count": 69,
      "outputs": []
    },
    {
      "cell_type": "code",
      "source": [
        "w"
      ],
      "metadata": {
        "colab": {
          "base_uri": "https://localhost:8080/"
        },
        "id": "gaa5PXaKqBXi",
        "outputId": "89011992-7e86-445c-a6f9-e1e5f90a114e"
      },
      "execution_count": 63,
      "outputs": [
        {
          "output_type": "execute_result",
          "data": {
            "text/plain": [
              "tensor(0., requires_grad=True)"
            ]
          },
          "metadata": {},
          "execution_count": 63
        }
      ]
    },
    {
      "cell_type": "code",
      "source": [
        "# model prediction\n",
        "\n",
        "def forward_1(x):\n",
        "  return w*x"
      ],
      "metadata": {
        "id": "EdtF3kgroKj1"
      },
      "execution_count": 52,
      "outputs": []
    },
    {
      "cell_type": "code",
      "source": [
        "# loss\n",
        "\n",
        "def loss_1(y, y_predicted):\n",
        "  return ((y_predicted - y)**2).mean()"
      ],
      "metadata": {
        "id": "AoAvXL7IoORH"
      },
      "execution_count": 53,
      "outputs": []
    },
    {
      "cell_type": "code",
      "source": [
        "y_pred = forward_1(X)\n",
        "print(w.requires_grad)"
      ],
      "metadata": {
        "colab": {
          "base_uri": "https://localhost:8080/"
        },
        "id": "qbKGedB7ty0-",
        "outputId": "c0cfe180-7d4e-4b50-c99b-875d3aefcce0"
      },
      "execution_count": 54,
      "outputs": [
        {
          "output_type": "stream",
          "name": "stdout",
          "text": [
            "True\n"
          ]
        }
      ]
    },
    {
      "cell_type": "code",
      "source": [
        "l = loss_1(Y, y_pred)\n",
        "print(w.requires_grad)"
      ],
      "metadata": {
        "colab": {
          "base_uri": "https://localhost:8080/"
        },
        "id": "BiXpBTsBt62Z",
        "outputId": "5605f290-de1e-498e-ff79-070ff4fef1de"
      },
      "execution_count": 55,
      "outputs": [
        {
          "output_type": "stream",
          "name": "stdout",
          "text": [
            "True\n"
          ]
        }
      ]
    },
    {
      "cell_type": "code",
      "source": [
        "l.backward()\n",
        "print(w.requires_grad)"
      ],
      "metadata": {
        "colab": {
          "base_uri": "https://localhost:8080/"
        },
        "id": "-6xGzfVQuCDy",
        "outputId": "ea7101b5-fd36-4357-f1fb-fb03a01b0eb4"
      },
      "execution_count": 56,
      "outputs": [
        {
          "output_type": "stream",
          "name": "stdout",
          "text": [
            "True\n"
          ]
        }
      ]
    },
    {
      "cell_type": "code",
      "source": [
        "with torch.no_grad():\n",
        "  w = w - learning_rate * w.grad\n",
        "\n",
        "print(w.requires_grad)"
      ],
      "metadata": {
        "colab": {
          "base_uri": "https://localhost:8080/"
        },
        "id": "8cKOhqlnuM1r",
        "outputId": "e453fc7f-c929-4a1f-dad6-d3aa34036652"
      },
      "execution_count": 57,
      "outputs": [
        {
          "output_type": "stream",
          "name": "stdout",
          "text": [
            "False\n"
          ]
        }
      ]
    },
    {
      "cell_type": "code",
      "source": [
        "w = torch.tensor(0.0, dtype = torch.float32, \n",
        "                 requires_grad=True)\n",
        "\n",
        "learning_rate = 0.01\n",
        "n_iter = 100\n",
        "\n",
        "for epoch in range(n_iter):\n",
        "  \n",
        "  y_pred = forward_1(X)\n",
        "\n",
        "  l = loss_1(Y, y_pred)\n",
        "  \n",
        "  l.backward()\n",
        "\n",
        "  with torch.no_grad(): \n",
        "    # we don't want this calculation to be part of the computation graph\n",
        "    # Do not use \"w = w - learning_rate * w.grad\" as a new variable w is created for which requires_grad = False\n",
        "    w -= learning_rate * w.grad\n",
        "  \n",
        "  w.grad.zero_()\n",
        "\n",
        "  if epoch%10 == 0:\n",
        "    print(\"Epoch:\", epoch + 1, \"weight w = :\", w.item(), \"loss J = \", l.item())\n"
      ],
      "metadata": {
        "colab": {
          "base_uri": "https://localhost:8080/"
        },
        "id": "qc_who8boSRI",
        "outputId": "82c44d2f-fd7e-442f-e939-e9ab12039827"
      },
      "execution_count": 77,
      "outputs": [
        {
          "output_type": "stream",
          "name": "stdout",
          "text": [
            "Epoch: 1 weight w = : 0.29999998211860657 loss J =  30.0\n",
            "Epoch: 11 weight w = : 1.6653136014938354 loss J =  1.1627856492996216\n",
            "Epoch: 21 weight w = : 1.934108853340149 loss J =  0.0450688973069191\n",
            "Epoch: 31 weight w = : 1.987027645111084 loss J =  0.0017468547448515892\n",
            "Epoch: 41 weight w = : 1.9974461793899536 loss J =  6.770494655938819e-05\n",
            "Epoch: 51 weight w = : 1.9994971752166748 loss J =  2.6243997126584873e-06\n",
            "Epoch: 61 weight w = : 1.9999010562896729 loss J =  1.0175587306093803e-07\n",
            "Epoch: 71 weight w = : 1.9999804496765137 loss J =  3.9741685498029256e-09\n",
            "Epoch: 81 weight w = : 1.999996304512024 loss J =  1.4670220593870908e-10\n",
            "Epoch: 91 weight w = : 1.9999992847442627 loss J =  5.076827847005916e-12\n"
          ]
        }
      ]
    },
    {
      "cell_type": "code",
      "source": [],
      "metadata": {
        "id": "-LBLwQFYttED"
      },
      "execution_count": null,
      "outputs": []
    }
  ]
}