{
  "nbformat": 4,
  "nbformat_minor": 0,
  "metadata": {
    "colab": {
      "provenance": [],
      "authorship_tag": "ABX9TyPsaohyvbXrO4vMgbo2DIDf",
      "include_colab_link": true
    },
    "kernelspec": {
      "name": "python3",
      "display_name": "Python 3"
    },
    "language_info": {
      "name": "python"
    }
  },
  "cells": [
    {
      "cell_type": "markdown",
      "metadata": {
        "id": "view-in-github",
        "colab_type": "text"
      },
      "source": [
        "<a href=\"https://colab.research.google.com/github/NBK-code/PyTorch_Basics/blob/main/PyTorch_Regression.ipynb\" target=\"_parent\"><img src=\"https://colab.research.google.com/assets/colab-badge.svg\" alt=\"Open In Colab\"/></a>"
      ]
    },
    {
      "cell_type": "markdown",
      "source": [
        "##Regression done manually"
      ],
      "metadata": {
        "id": "kt9Nb5vHm-jK"
      }
    },
    {
      "cell_type": "code",
      "source": [
        "import numpy as np"
      ],
      "metadata": {
        "id": "-T6ZDwbKTMwG"
      },
      "execution_count": 1,
      "outputs": []
    },
    {
      "cell_type": "code",
      "source": [
        "# f = 2 * x\n",
        "\n",
        "X = np.array([1,2,3,4], dtype = np.float32)\n",
        "Y = np.array([2,4,6,8], dtype = np.float32)"
      ],
      "metadata": {
        "id": "4ZIj2XvdbJ8N"
      },
      "execution_count": 2,
      "outputs": []
    },
    {
      "cell_type": "code",
      "source": [
        "w = 0.0"
      ],
      "metadata": {
        "id": "v48InNxjbeSc"
      },
      "execution_count": 3,
      "outputs": []
    },
    {
      "cell_type": "code",
      "source": [
        "# model prediction\n",
        "\n",
        "def forward(x):\n",
        "  return w*x"
      ],
      "metadata": {
        "id": "QyGFnV-fbfvv"
      },
      "execution_count": 4,
      "outputs": []
    },
    {
      "cell_type": "code",
      "source": [
        "# loss\n",
        "\n",
        "def loss(y, y_predicted):\n",
        "  return ((y_predicted - y)**2).mean()"
      ],
      "metadata": {
        "id": "ev-6QZY_hnbN"
      },
      "execution_count": 5,
      "outputs": []
    },
    {
      "cell_type": "code",
      "source": [
        "# gradient\n",
        "\n",
        "# J = 1/N * (w*x - y)**2\n",
        "\n",
        "# dJ/dw = 2/N * (w*x - y)*x\n",
        "\n",
        "def gradient(x,y,y_predicted):\n",
        "  return np.dot((y_predicted - y), 2*x).mean()"
      ],
      "metadata": {
        "id": "usuTwODhh09y"
      },
      "execution_count": 6,
      "outputs": []
    },
    {
      "cell_type": "code",
      "source": [
        "learning_rate = 0.01\n",
        "n_iter = 20\n",
        "\n",
        "for epoch in range(n_iter):\n",
        "  y_pred = forward(X)\n",
        "\n",
        "  l = loss(Y, y_pred)\n",
        "\n",
        "  dw = gradient(X, Y, y_pred)\n",
        "\n",
        "  w = w - learning_rate*dw\n",
        "  \n",
        "  if epoch%2 == 0:\n",
        "    print(\"Epoch:\", epoch + 1, \"weight w = :\", w, \"loss J = \", l)\n"
      ],
      "metadata": {
        "colab": {
          "base_uri": "https://localhost:8080/"
        },
        "id": "FD9YUAhukBFc",
        "outputId": "ee8322ea-3f04-4ccd-d90b-7917dc8040ac"
      },
      "execution_count": 7,
      "outputs": [
        {
          "output_type": "stream",
          "name": "stdout",
          "text": [
            "Epoch: 1 weight w = : 1.2 loss J =  30.0\n",
            "Epoch: 3 weight w = : 1.871999988555908 loss J =  0.7680002\n",
            "Epoch: 5 weight w = : 1.9795200133323667 loss J =  0.019660834\n",
            "Epoch: 7 weight w = : 1.9967231869697568 loss J =  0.000503308\n",
            "Epoch: 9 weight w = : 1.999475698471069 loss J =  1.2884395e-05\n",
            "Epoch: 11 weight w = : 1.9999160599708554 loss J =  3.29734e-07\n",
            "Epoch: 13 weight w = : 1.9999865984916685 loss J =  8.487817e-09\n",
            "Epoch: 15 weight w = : 1.9999978351593015 loss J =  2.1679014e-10\n",
            "Epoch: 17 weight w = : 1.9999996304512022 loss J =  5.076828e-12\n",
            "Epoch: 19 weight w = : 1.9999999165534972 loss J =  1.314504e-13\n"
          ]
        }
      ]
    },
    {
      "cell_type": "markdown",
      "source": [
        "##Regression with gradients calculated using PyTorch"
      ],
      "metadata": {
        "id": "RGY2HaxmnEIZ"
      }
    },
    {
      "cell_type": "code",
      "source": [
        "import torch"
      ],
      "metadata": {
        "id": "-aRovOBDlSM1"
      },
      "execution_count": 8,
      "outputs": []
    },
    {
      "cell_type": "code",
      "source": [
        "X = torch.tensor([1,2,3,4], dtype = torch.float32)\n",
        "Y = torch.tensor([2,4,6,8], dtype = torch.float32)"
      ],
      "metadata": {
        "id": "ZrAb7Y8nnOhG"
      },
      "execution_count": 9,
      "outputs": []
    },
    {
      "cell_type": "code",
      "source": [
        "w = torch.tensor(0.0, dtype = torch.float32, \n",
        "                 requires_grad=True)"
      ],
      "metadata": {
        "id": "_Y_ppJQsn-SX"
      },
      "execution_count": 10,
      "outputs": []
    },
    {
      "cell_type": "code",
      "source": [
        "w"
      ],
      "metadata": {
        "colab": {
          "base_uri": "https://localhost:8080/"
        },
        "id": "gaa5PXaKqBXi",
        "outputId": "d61d32e5-3ecd-45ef-e4c8-dd0f29615bb6"
      },
      "execution_count": 11,
      "outputs": [
        {
          "output_type": "execute_result",
          "data": {
            "text/plain": [
              "tensor(0., requires_grad=True)"
            ]
          },
          "metadata": {},
          "execution_count": 11
        }
      ]
    },
    {
      "cell_type": "code",
      "source": [
        "# model prediction\n",
        "\n",
        "def forward_1(x):\n",
        "  return w*x"
      ],
      "metadata": {
        "id": "EdtF3kgroKj1"
      },
      "execution_count": 12,
      "outputs": []
    },
    {
      "cell_type": "code",
      "source": [
        "# loss\n",
        "\n",
        "def loss_1(y, y_predicted):\n",
        "  return ((y_predicted - y)**2).mean()"
      ],
      "metadata": {
        "id": "AoAvXL7IoORH"
      },
      "execution_count": 13,
      "outputs": []
    },
    {
      "cell_type": "code",
      "source": [
        "w = torch.tensor(0.0, dtype = torch.float32, \n",
        "                 requires_grad=True)\n",
        "\n",
        "learning_rate = 0.01\n",
        "n_iter = 100\n",
        "\n",
        "for epoch in range(n_iter):\n",
        "  \n",
        "  y_pred = forward_1(X)\n",
        "\n",
        "  l = loss_1(Y, y_pred)\n",
        "  \n",
        "  l.backward()\n",
        "\n",
        "  with torch.no_grad(): \n",
        "    # we don't want this calculation to be part of the computation graph\n",
        "    # Do not use \"w = w - learning_rate * w.grad\" as a new variable w is created for which requires_grad = False\n",
        "    w -= learning_rate * w.grad\n",
        "  \n",
        "  w.grad.zero_()\n",
        "\n",
        "  if epoch%10 == 0:\n",
        "    print(\"Epoch:\", epoch + 1, \"weight w = :\", w.item(), \"loss J = \", l.item())\n"
      ],
      "metadata": {
        "colab": {
          "base_uri": "https://localhost:8080/"
        },
        "id": "qc_who8boSRI",
        "outputId": "9a0a0bbd-43e4-4a31-949d-26adfb6fd6a4"
      },
      "execution_count": 14,
      "outputs": [
        {
          "output_type": "stream",
          "name": "stdout",
          "text": [
            "Epoch: 1 weight w = : 0.29999998211860657 loss J =  30.0\n",
            "Epoch: 11 weight w = : 1.6653136014938354 loss J =  1.1627856492996216\n",
            "Epoch: 21 weight w = : 1.934108853340149 loss J =  0.0450688973069191\n",
            "Epoch: 31 weight w = : 1.987027645111084 loss J =  0.0017468547448515892\n",
            "Epoch: 41 weight w = : 1.9974461793899536 loss J =  6.770494655938819e-05\n",
            "Epoch: 51 weight w = : 1.9994971752166748 loss J =  2.6243997126584873e-06\n",
            "Epoch: 61 weight w = : 1.9999010562896729 loss J =  1.0175587306093803e-07\n",
            "Epoch: 71 weight w = : 1.9999804496765137 loss J =  3.9741685498029256e-09\n",
            "Epoch: 81 weight w = : 1.999996304512024 loss J =  1.4670220593870908e-10\n",
            "Epoch: 91 weight w = : 1.9999992847442627 loss J =  5.076827847005916e-12\n"
          ]
        }
      ]
    },
    {
      "cell_type": "markdown",
      "source": [
        "##Regression using PyTorch Loss and Optimizer"
      ],
      "metadata": {
        "id": "p2PWEh0G2kYb"
      }
    },
    {
      "cell_type": "code",
      "source": [
        "# Typical Flow\n",
        "\n",
        "# 1. Model design (input size, output size, forward pass)\n",
        "# 2. Construct loss and optimizer\n",
        "# 3. Training Loop\n",
        "#      - forward pass\n",
        "#      - backward pass: gradients\n",
        "#      - update weights"
      ],
      "metadata": {
        "id": "-LBLwQFYttED"
      },
      "execution_count": 15,
      "outputs": []
    },
    {
      "cell_type": "code",
      "source": [
        "import torch\n",
        "import torch.nn as nn"
      ],
      "metadata": {
        "id": "hLyIf4gB3Z8D"
      },
      "execution_count": 16,
      "outputs": []
    },
    {
      "cell_type": "code",
      "source": [
        "X = torch.tensor([1,2,3,4], dtype = torch.float32)\n",
        "Y = torch.tensor([2,4,6,8], dtype = torch.float32)"
      ],
      "metadata": {
        "id": "p2Oak8Ex5Lzd"
      },
      "execution_count": 17,
      "outputs": []
    },
    {
      "cell_type": "code",
      "source": [
        "w = torch.tensor(0.0, dtype = torch.float32, \n",
        "                 requires_grad=True)"
      ],
      "metadata": {
        "id": "3y-TCCIX5M5R"
      },
      "execution_count": 18,
      "outputs": []
    },
    {
      "cell_type": "code",
      "source": [
        "# model prediction\n",
        "\n",
        "def forward_2(x):\n",
        "  return w*x"
      ],
      "metadata": {
        "id": "C9IqOFmv4-Vb"
      },
      "execution_count": 19,
      "outputs": []
    },
    {
      "cell_type": "code",
      "source": [
        "w = torch.tensor(0.0, dtype = torch.float32, \n",
        "                 requires_grad=True)\n",
        "\n",
        "learning_rate = 0.01\n",
        "n_iter = 100\n",
        "\n",
        "loss = nn.MSELoss()\n",
        "optimizer = torch.optim.SGD([w], lr = learning_rate)\n",
        "\n",
        "for epoch in range(n_iter):\n",
        "  \n",
        "  y_pred = forward_2(X)\n",
        "\n",
        "  l = loss(Y, y_pred)\n",
        "  \n",
        "  l.backward()\n",
        "\n",
        "  optimizer.step()\n",
        "  \n",
        "  optimizer.zero_grad()\n",
        "\n",
        "  if epoch%10 == 0:\n",
        "    print(\"Epoch:\", epoch + 1, \"weight w = :\", w.item(), \"loss J = \", l.item())\n"
      ],
      "metadata": {
        "colab": {
          "base_uri": "https://localhost:8080/"
        },
        "id": "2ePgA9dq5GR4",
        "outputId": "c35cd8ef-adfb-43b0-c68b-d2ceec319b24"
      },
      "execution_count": 20,
      "outputs": [
        {
          "output_type": "stream",
          "name": "stdout",
          "text": [
            "Epoch: 1 weight w = : 0.29999998211860657 loss J =  30.0\n",
            "Epoch: 11 weight w = : 1.6653136014938354 loss J =  1.1627856492996216\n",
            "Epoch: 21 weight w = : 1.934108853340149 loss J =  0.0450688973069191\n",
            "Epoch: 31 weight w = : 1.987027645111084 loss J =  0.0017468547448515892\n",
            "Epoch: 41 weight w = : 1.9974461793899536 loss J =  6.770494655938819e-05\n",
            "Epoch: 51 weight w = : 1.9994971752166748 loss J =  2.6243997126584873e-06\n",
            "Epoch: 61 weight w = : 1.9999010562896729 loss J =  1.0175587306093803e-07\n",
            "Epoch: 71 weight w = : 1.9999804496765137 loss J =  3.9741685498029256e-09\n",
            "Epoch: 81 weight w = : 1.999996304512024 loss J =  1.4670220593870908e-10\n",
            "Epoch: 91 weight w = : 1.9999992847442627 loss J =  5.076827847005916e-12\n"
          ]
        }
      ]
    },
    {
      "cell_type": "markdown",
      "source": [
        "##Regression with PyTorch Model"
      ],
      "metadata": {
        "id": "X7Vkh71665zS"
      }
    },
    {
      "cell_type": "code",
      "source": [
        "import torch\n",
        "import torch.nn as nn"
      ],
      "metadata": {
        "id": "LaqrnsZ46tgU"
      },
      "execution_count": 21,
      "outputs": []
    },
    {
      "cell_type": "code",
      "source": [
        "X = torch.tensor([[1],[2],[3],[4]], dtype = torch.float32)\n",
        "Y = torch.tensor([[2],[4],[6],[8]], dtype = torch.float32)\n",
        "\n",
        "X_test = torch.tensor([5], dtype = torch.float32)\n",
        "\n",
        "n_sample, n_features = X.shape\n",
        "print(n_sample, n_features)"
      ],
      "metadata": {
        "colab": {
          "base_uri": "https://localhost:8080/"
        },
        "id": "M6MKY9pH9IIm",
        "outputId": "8d9e4a36-1c96-42c4-9ac2-16d79b5fb3c9"
      },
      "execution_count": 22,
      "outputs": [
        {
          "output_type": "stream",
          "name": "stdout",
          "text": [
            "4 1\n"
          ]
        }
      ]
    },
    {
      "cell_type": "code",
      "source": [
        "input_size = n_features\n",
        "output_size = n_features"
      ],
      "metadata": {
        "id": "1husDGJ79KaT"
      },
      "execution_count": 23,
      "outputs": []
    },
    {
      "cell_type": "code",
      "source": [
        "model = nn.Linear(input_size, output_size)"
      ],
      "metadata": {
        "id": "EozVBBOj_uTr"
      },
      "execution_count": 24,
      "outputs": []
    },
    {
      "cell_type": "code",
      "source": [
        "learning_rate = 0.01\n",
        "n_iter = 100\n",
        "\n",
        "loss = nn.MSELoss()\n",
        "optimizer = torch.optim.SGD(model.parameters(), lr = learning_rate)\n",
        "\n",
        "for epoch in range(n_iter):\n",
        "  \n",
        "  y_pred = model(X)\n",
        "\n",
        "  l = loss(Y, y_pred)\n",
        "  \n",
        "  l.backward()\n",
        "\n",
        "  optimizer.step()\n",
        "  \n",
        "  optimizer.zero_grad()\n",
        "\n",
        "  if epoch%10 == 0:\n",
        "    [w, b] = model.parameters()\n",
        "    print(\"Epoch:\", epoch + 1, \"weight w = :\", w.item(), \"loss J = \", l.item())\n"
      ],
      "metadata": {
        "colab": {
          "base_uri": "https://localhost:8080/"
        },
        "id": "0W9HOnkfDUVv",
        "outputId": "7eb48957-50b7-4555-b759-fee7b899938d"
      },
      "execution_count": 25,
      "outputs": [
        {
          "output_type": "stream",
          "name": "stdout",
          "text": [
            "Epoch: 1 weight w = : 0.49306902289390564 loss J =  24.856403350830078\n",
            "Epoch: 11 weight w = : 1.6384658813476562 loss J =  0.6719048619270325\n",
            "Epoch: 21 weight w = : 1.826221227645874 loss J =  0.04451705887913704\n",
            "Epoch: 31 weight w = : 1.8598368167877197 loss J =  0.026705730706453323\n",
            "Epoch: 41 weight w = : 1.868558645248413 loss J =  0.02475752867758274\n",
            "Epoch: 51 weight w = : 1.8731781244277954 loss J =  0.02330632321536541\n",
            "Epoch: 61 weight w = : 1.8770427703857422 loss J =  0.021949535235762596\n",
            "Epoch: 71 weight w = : 1.8806939125061035 loss J =  0.02067192830145359\n",
            "Epoch: 81 weight w = : 1.8842211961746216 loss J =  0.01946873776614666\n",
            "Epoch: 91 weight w = : 1.8876416683197021 loss J =  0.018335554748773575\n"
          ]
        }
      ]
    },
    {
      "cell_type": "code",
      "source": [
        "print(\"Prediction:\", model(X_test).item())"
      ],
      "metadata": {
        "colab": {
          "base_uri": "https://localhost:8080/"
        },
        "id": "EHD3ZvFaD9s3",
        "outputId": "07e28289-35a5-49a2-b55a-e7c18fcf369f"
      },
      "execution_count": 26,
      "outputs": [
        {
          "output_type": "stream",
          "name": "stdout",
          "text": [
            "Prediction: 9.774717330932617\n"
          ]
        }
      ]
    },
    {
      "cell_type": "markdown",
      "source": [
        "##Regression with Custom Model"
      ],
      "metadata": {
        "id": "5jNVbEL-ZCYh"
      }
    },
    {
      "cell_type": "code",
      "source": [
        "import torch\n",
        "import torch.nn as nn"
      ],
      "metadata": {
        "id": "ffqGKvllFpFx"
      },
      "execution_count": 27,
      "outputs": []
    },
    {
      "cell_type": "code",
      "source": [
        "X = torch.tensor([[1],[2],[3],[4]], dtype = torch.float32)\n",
        "Y = torch.tensor([[2],[4],[6],[8]], dtype = torch.float32)\n",
        "\n",
        "X_test = torch.tensor([5], dtype = torch.float32)\n",
        "\n",
        "n_sample, n_features = X.shape\n",
        "print(n_sample, n_features)"
      ],
      "metadata": {
        "colab": {
          "base_uri": "https://localhost:8080/"
        },
        "id": "zpZLJg-9ZcH7",
        "outputId": "72abaf6b-01af-427c-f0cf-900593289eae"
      },
      "execution_count": 28,
      "outputs": [
        {
          "output_type": "stream",
          "name": "stdout",
          "text": [
            "4 1\n"
          ]
        }
      ]
    },
    {
      "cell_type": "code",
      "source": [
        "input_size = n_features\n",
        "output_size = n_features"
      ],
      "metadata": {
        "id": "qsUyV9N7ZfKd"
      },
      "execution_count": 29,
      "outputs": []
    },
    {
      "cell_type": "code",
      "source": [
        "class LinearRegression(nn.Module):\n",
        "\n",
        "  def __init__(self, input_dim, output_dim):\n",
        "    super(LinearRegression, self).__init__()\n",
        "    # define layers\n",
        "    self.lin = nn.Linear(input_dim, output_dim)\n",
        "\n",
        "  def forward(self, x):\n",
        "    return self.lin(x)"
      ],
      "metadata": {
        "id": "ZrPYgQ_zZhg5"
      },
      "execution_count": 30,
      "outputs": []
    },
    {
      "cell_type": "code",
      "source": [
        "model = LinearRegression(input_size, output_size)"
      ],
      "metadata": {
        "id": "kHX2phvcadQt"
      },
      "execution_count": 31,
      "outputs": []
    },
    {
      "cell_type": "code",
      "source": [
        "learning_rate = 0.01\n",
        "n_iter = 100\n",
        "\n",
        "loss = nn.MSELoss()\n",
        "optimizer = torch.optim.SGD(model.parameters(), lr = learning_rate)\n",
        "\n",
        "for epoch in range(n_iter):\n",
        "  \n",
        "  y_pred = model(X)\n",
        "\n",
        "  l = loss(Y, y_pred)\n",
        "  \n",
        "  l.backward()\n",
        "\n",
        "  optimizer.step()\n",
        "  \n",
        "  optimizer.zero_grad()\n",
        "\n",
        "  if epoch%10 == 0:\n",
        "    [w, b] = model.parameters()\n",
        "    print(\"Epoch:\", epoch + 1, \"weight w = :\", w.item(), \"loss J = \", l.item())\n"
      ],
      "metadata": {
        "colab": {
          "base_uri": "https://localhost:8080/"
        },
        "id": "t2i9bb30ajU4",
        "outputId": "d147b325-ea8d-473d-ab4e-93d0d20f81ad"
      },
      "execution_count": 32,
      "outputs": [
        {
          "output_type": "stream",
          "name": "stdout",
          "text": [
            "Epoch: 1 weight w = : 0.059418193995952606 loss J =  39.01301956176758\n",
            "Epoch: 11 weight w = : 1.4953608512878418 loss J =  1.0845638513565063\n",
            "Epoch: 21 weight w = : 1.7320168018341064 loss J =  0.09888754785060883\n",
            "Epoch: 31 weight w = : 1.7756010293960571 loss J =  0.0692630261182785\n",
            "Epoch: 41 weight w = : 1.7879666090011597 loss J =  0.06461410224437714\n",
            "Epoch: 51 weight w = : 1.7951527833938599 loss J =  0.06083724647760391\n",
            "Epoch: 61 weight w = : 1.8013521432876587 loss J =  0.057295773178339005\n",
            "Epoch: 71 weight w = : 1.807243824005127 loss J =  0.0539608858525753\n",
            "Epoch: 81 weight w = : 1.812941551208496 loss J =  0.05082003399729729\n",
            "Epoch: 91 weight w = : 1.818467617034912 loss J =  0.047862015664577484\n"
          ]
        }
      ]
    },
    {
      "cell_type": "code",
      "source": [
        "print(\"Prediction:\", model(X_test).item())"
      ],
      "metadata": {
        "colab": {
          "base_uri": "https://localhost:8080/"
        },
        "id": "rbRYOY-iap-U",
        "outputId": "4a6d0ed4-1fe2-4f21-f6ee-0244a48bf052"
      },
      "execution_count": 33,
      "outputs": [
        {
          "output_type": "stream",
          "name": "stdout",
          "text": [
            "Prediction: 9.636021614074707\n"
          ]
        }
      ]
    }
  ]
}