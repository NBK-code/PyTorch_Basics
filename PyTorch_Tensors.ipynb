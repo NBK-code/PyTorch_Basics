{
  "nbformat": 4,
  "nbformat_minor": 0,
  "metadata": {
    "colab": {
      "provenance": [],
      "authorship_tag": "ABX9TyMFdT3F9/gv+JFSRFhVyNvk",
      "include_colab_link": true
    },
    "kernelspec": {
      "name": "python3",
      "display_name": "Python 3"
    },
    "language_info": {
      "name": "python"
    }
  },
  "cells": [
    {
      "cell_type": "markdown",
      "metadata": {
        "id": "view-in-github",
        "colab_type": "text"
      },
      "source": [
        "<a href=\"https://colab.research.google.com/github/NBK-code/PyTorch_Basics/blob/main/PyTorch_Tensors.ipynb\" target=\"_parent\"><img src=\"https://colab.research.google.com/assets/colab-badge.svg\" alt=\"Open In Colab\"/></a>"
      ]
    },
    {
      "cell_type": "code",
      "execution_count": 1,
      "metadata": {
        "id": "b7DSa9C48O5z"
      },
      "outputs": [],
      "source": [
        "import torch"
      ]
    },
    {
      "cell_type": "code",
      "source": [
        "print(torch.__version__)"
      ],
      "metadata": {
        "colab": {
          "base_uri": "https://localhost:8080/"
        },
        "id": "kXMYJawT8Qx5",
        "outputId": "16a95d6b-fd81-4a89-8907-1b5957f2f98d"
      },
      "execution_count": 2,
      "outputs": [
        {
          "output_type": "stream",
          "name": "stdout",
          "text": [
            "1.12.1+cu113\n"
          ]
        }
      ]
    },
    {
      "cell_type": "markdown",
      "source": [
        "##Tensors"
      ],
      "metadata": {
        "id": "sxpkObBt1VQ8"
      }
    },
    {
      "cell_type": "code",
      "source": [
        "x = torch.empty(1)\n",
        "print(x)"
      ],
      "metadata": {
        "colab": {
          "base_uri": "https://localhost:8080/"
        },
        "id": "YO9PdP8P0Dju",
        "outputId": "24559fcc-c3f4-447e-ff31-74edec8e98aa"
      },
      "execution_count": 3,
      "outputs": [
        {
          "output_type": "stream",
          "name": "stdout",
          "text": [
            "tensor([9.2662e-36])\n"
          ]
        }
      ]
    },
    {
      "cell_type": "code",
      "source": [
        "x = torch.empty(3)\n",
        "print(x)"
      ],
      "metadata": {
        "colab": {
          "base_uri": "https://localhost:8080/"
        },
        "id": "IjqbjBvR1o8w",
        "outputId": "96fdffce-4bd5-4f0f-83a1-c4ffabee6ace"
      },
      "execution_count": 4,
      "outputs": [
        {
          "output_type": "stream",
          "name": "stdout",
          "text": [
            "tensor([9.2664e-36, 0.0000e+00, 5.0447e-44])\n"
          ]
        }
      ]
    },
    {
      "cell_type": "code",
      "source": [
        "x = torch.empty(2, 3)\n",
        "print(x)"
      ],
      "metadata": {
        "colab": {
          "base_uri": "https://localhost:8080/"
        },
        "id": "iTRXcETa1yWi",
        "outputId": "80cad147-26d4-4180-db29-4e1b9fe07977"
      },
      "execution_count": 5,
      "outputs": [
        {
          "output_type": "stream",
          "name": "stdout",
          "text": [
            "tensor([[9.2666e-36, 0.0000e+00, 5.0447e-44],\n",
            "        [0.0000e+00,        nan, 0.0000e+00]])\n"
          ]
        }
      ]
    },
    {
      "cell_type": "code",
      "source": [
        "x = torch.empty(2, 3, 3)\n",
        "print(x)"
      ],
      "metadata": {
        "colab": {
          "base_uri": "https://localhost:8080/"
        },
        "id": "prLjt79G16yi",
        "outputId": "b38c2bd2-ef56-42be-f1be-412c90d0ba5e"
      },
      "execution_count": 6,
      "outputs": [
        {
          "output_type": "stream",
          "name": "stdout",
          "text": [
            "tensor([[[9.2751e-36, 0.0000e+00, 0.0000e+00],\n",
            "         [0.0000e+00, 0.0000e+00, 0.0000e+00],\n",
            "         [0.0000e+00, 0.0000e+00, 0.0000e+00]],\n",
            "\n",
            "        [[0.0000e+00, 0.0000e+00, 0.0000e+00],\n",
            "         [0.0000e+00, 0.0000e+00, 0.0000e+00],\n",
            "         [0.0000e+00, 0.0000e+00, 0.0000e+00]]])\n"
          ]
        }
      ]
    },
    {
      "cell_type": "code",
      "source": [
        "x = torch.rand(2)\n",
        "print(x)"
      ],
      "metadata": {
        "colab": {
          "base_uri": "https://localhost:8080/"
        },
        "id": "DhzCtUA-2BJq",
        "outputId": "6b413a84-d972-440f-b220-0da3f21b053d"
      },
      "execution_count": 7,
      "outputs": [
        {
          "output_type": "stream",
          "name": "stdout",
          "text": [
            "tensor([0.5785, 0.3554])\n"
          ]
        }
      ]
    },
    {
      "cell_type": "code",
      "source": [
        "x = torch.rand(2,2)\n",
        "print(x)"
      ],
      "metadata": {
        "colab": {
          "base_uri": "https://localhost:8080/"
        },
        "id": "969kjWWw2NEr",
        "outputId": "2fbb6e51-f143-4868-e7e3-ec47379fa7f6"
      },
      "execution_count": 8,
      "outputs": [
        {
          "output_type": "stream",
          "name": "stdout",
          "text": [
            "tensor([[0.7433, 0.9734],\n",
            "        [0.9439, 0.3741]])\n"
          ]
        }
      ]
    },
    {
      "cell_type": "code",
      "source": [
        "x = torch.ones(1,2)\n",
        "print(x)"
      ],
      "metadata": {
        "colab": {
          "base_uri": "https://localhost:8080/"
        },
        "id": "fHXoACJB2SH_",
        "outputId": "6d8e3a56-c94f-418c-e1da-1d814fbfa105"
      },
      "execution_count": 9,
      "outputs": [
        {
          "output_type": "stream",
          "name": "stdout",
          "text": [
            "tensor([[1., 1.]])\n"
          ]
        }
      ]
    },
    {
      "cell_type": "code",
      "source": [
        "x = torch.ones(1,2)\n",
        "print(x)\n",
        "print(x.dtype)"
      ],
      "metadata": {
        "colab": {
          "base_uri": "https://localhost:8080/"
        },
        "id": "UA-e-CYe2xJm",
        "outputId": "5eb0cc14-6660-477f-e83a-a31a901a072c"
      },
      "execution_count": 10,
      "outputs": [
        {
          "output_type": "stream",
          "name": "stdout",
          "text": [
            "tensor([[1., 1.]])\n",
            "torch.float32\n"
          ]
        }
      ]
    },
    {
      "cell_type": "code",
      "source": [
        "x = torch.ones(1,2, dtype = torch.int)\n",
        "print(x)\n",
        "print(x.dtype)"
      ],
      "metadata": {
        "colab": {
          "base_uri": "https://localhost:8080/"
        },
        "id": "_T5KNXmq26fU",
        "outputId": "411fea8e-4ef2-441e-9e3f-9f05b09569e4"
      },
      "execution_count": 11,
      "outputs": [
        {
          "output_type": "stream",
          "name": "stdout",
          "text": [
            "tensor([[1, 1]], dtype=torch.int32)\n",
            "torch.int32\n"
          ]
        }
      ]
    },
    {
      "cell_type": "code",
      "source": [
        "x = torch.ones(1,2, dtype = torch.double)\n",
        "print(x)\n",
        "print(x.dtype)"
      ],
      "metadata": {
        "colab": {
          "base_uri": "https://localhost:8080/"
        },
        "id": "aH_317Du3E9v",
        "outputId": "701c606b-be47-4f25-cfbd-a6ae52758daf"
      },
      "execution_count": 12,
      "outputs": [
        {
          "output_type": "stream",
          "name": "stdout",
          "text": [
            "tensor([[1., 1.]], dtype=torch.float64)\n",
            "torch.float64\n"
          ]
        }
      ]
    },
    {
      "cell_type": "code",
      "source": [
        "x = torch.ones(1,2, dtype = torch.float16)\n",
        "print(x)\n",
        "print(x.dtype)"
      ],
      "metadata": {
        "colab": {
          "base_uri": "https://localhost:8080/"
        },
        "id": "MB98Vhi73Lxw",
        "outputId": "556f8b53-1b2b-4ba3-e89d-1d9fb5b88651"
      },
      "execution_count": 13,
      "outputs": [
        {
          "output_type": "stream",
          "name": "stdout",
          "text": [
            "tensor([[1., 1.]], dtype=torch.float16)\n",
            "torch.float16\n"
          ]
        }
      ]
    },
    {
      "cell_type": "code",
      "source": [
        "x = torch.ones(1,2)\n",
        "print(x)\n",
        "print(x.size())"
      ],
      "metadata": {
        "colab": {
          "base_uri": "https://localhost:8080/"
        },
        "id": "hREHVNws3Q69",
        "outputId": "10795a11-4f66-4c34-d93e-9a33878b8bfc"
      },
      "execution_count": 14,
      "outputs": [
        {
          "output_type": "stream",
          "name": "stdout",
          "text": [
            "tensor([[1., 1.]])\n",
            "torch.Size([1, 2])\n"
          ]
        }
      ]
    },
    {
      "cell_type": "code",
      "source": [
        "x = torch.tensor([1.6, 2.3])\n",
        "print(x)"
      ],
      "metadata": {
        "colab": {
          "base_uri": "https://localhost:8080/"
        },
        "id": "tdsgNwXw3Zgf",
        "outputId": "f02a7517-a461-4a3c-cde9-8cb20b78b556"
      },
      "execution_count": 15,
      "outputs": [
        {
          "output_type": "stream",
          "name": "stdout",
          "text": [
            "tensor([1.6000, 2.3000])\n"
          ]
        }
      ]
    },
    {
      "cell_type": "code",
      "source": [
        "x = torch.rand(2, 2)\n",
        "y = torch.rand(2, 2)\n",
        "print(x)\n",
        "print(y)\n",
        "z = x + y\n",
        "print(z)"
      ],
      "metadata": {
        "colab": {
          "base_uri": "https://localhost:8080/"
        },
        "id": "dXete6RRfV8I",
        "outputId": "56bb421f-4cd0-4648-fe0f-a919a4bd39be"
      },
      "execution_count": 16,
      "outputs": [
        {
          "output_type": "stream",
          "name": "stdout",
          "text": [
            "tensor([[0.7068, 0.1873],\n",
            "        [0.7350, 0.7223]])\n",
            "tensor([[0.4731, 0.3956],\n",
            "        [0.8422, 0.5021]])\n",
            "tensor([[1.1799, 0.5829],\n",
            "        [1.5772, 1.2244]])\n"
          ]
        }
      ]
    },
    {
      "cell_type": "code",
      "source": [
        "x = torch.rand(2, 2)\n",
        "y = torch.rand(2, 2)\n",
        "print(x)\n",
        "print(y)\n",
        "z = torch.add(x, y)\n",
        "print(z)"
      ],
      "metadata": {
        "colab": {
          "base_uri": "https://localhost:8080/"
        },
        "id": "3HW_j7LYftfj",
        "outputId": "c08da2cd-7834-4d06-a776-20affb2dfaeb"
      },
      "execution_count": 17,
      "outputs": [
        {
          "output_type": "stream",
          "name": "stdout",
          "text": [
            "tensor([[0.0948, 0.3875],\n",
            "        [0.2704, 0.2958]])\n",
            "tensor([[0.8841, 0.8490],\n",
            "        [0.2848, 0.0716]])\n",
            "tensor([[0.9789, 1.2365],\n",
            "        [0.5552, 0.3674]])\n"
          ]
        }
      ]
    },
    {
      "cell_type": "markdown",
      "source": [
        "Every function ending with an underscore does inplace operations."
      ],
      "metadata": {
        "id": "73oDbDXJpmH9"
      }
    },
    {
      "cell_type": "code",
      "source": [
        "x = torch.rand(2, 2)\n",
        "y = torch.rand(2, 2)\n",
        "print(x)\n",
        "print(y)\n",
        "y.add_(x)\n",
        "print(y)"
      ],
      "metadata": {
        "colab": {
          "base_uri": "https://localhost:8080/"
        },
        "id": "WABO66R2f4Ju",
        "outputId": "fd05b09d-19b2-4c6f-b2d8-9872fb7ef7c9"
      },
      "execution_count": 18,
      "outputs": [
        {
          "output_type": "stream",
          "name": "stdout",
          "text": [
            "tensor([[0.9726, 0.3250],\n",
            "        [0.1191, 0.1127]])\n",
            "tensor([[0.3678, 0.7299],\n",
            "        [0.1748, 0.5132]])\n",
            "tensor([[1.3404, 1.0549],\n",
            "        [0.2939, 0.6259]])\n"
          ]
        }
      ]
    },
    {
      "cell_type": "code",
      "source": [
        "x = torch.rand(2, 2)\n",
        "y = torch.rand(2, 2)\n",
        "print(x)\n",
        "print(y)\n",
        "z = x - y\n",
        "print(z)"
      ],
      "metadata": {
        "colab": {
          "base_uri": "https://localhost:8080/"
        },
        "id": "4U8atlK4paeR",
        "outputId": "77322acb-e8b7-4f47-9afd-6192a7df9d8a"
      },
      "execution_count": 19,
      "outputs": [
        {
          "output_type": "stream",
          "name": "stdout",
          "text": [
            "tensor([[0.2282, 0.3435],\n",
            "        [0.0378, 0.2096]])\n",
            "tensor([[0.3865, 0.4068],\n",
            "        [0.3551, 0.5273]])\n",
            "tensor([[-0.1583, -0.0632],\n",
            "        [-0.3173, -0.3177]])\n"
          ]
        }
      ]
    },
    {
      "cell_type": "code",
      "source": [
        "x = torch.rand(2, 2)\n",
        "y = torch.rand(2, 2)\n",
        "print(x)\n",
        "print(y)\n",
        "z = torch.sub(x, y)\n",
        "print(z)"
      ],
      "metadata": {
        "colab": {
          "base_uri": "https://localhost:8080/"
        },
        "id": "51EnTg_-pz1K",
        "outputId": "5a1c93ff-38f7-450e-a4cf-e2e42d191a9e"
      },
      "execution_count": 20,
      "outputs": [
        {
          "output_type": "stream",
          "name": "stdout",
          "text": [
            "tensor([[0.9488, 0.8046],\n",
            "        [0.6629, 0.6637]])\n",
            "tensor([[0.0687, 0.6350],\n",
            "        [0.6404, 0.6625]])\n",
            "tensor([[0.8801, 0.1696],\n",
            "        [0.0225, 0.0012]])\n"
          ]
        }
      ]
    },
    {
      "cell_type": "code",
      "source": [
        "x = torch.rand(2, 2)\n",
        "y = torch.rand(2, 2)\n",
        "print(x)\n",
        "print(y)\n",
        "y.sub_(x)\n",
        "print(y)"
      ],
      "metadata": {
        "colab": {
          "base_uri": "https://localhost:8080/"
        },
        "id": "zdpydRIop3fU",
        "outputId": "0e785c60-2bb2-4679-fcfc-01f22497fe81"
      },
      "execution_count": 21,
      "outputs": [
        {
          "output_type": "stream",
          "name": "stdout",
          "text": [
            "tensor([[0.1591, 0.1344],\n",
            "        [0.6066, 0.3698]])\n",
            "tensor([[0.4676, 0.5200],\n",
            "        [0.4354, 0.5992]])\n",
            "tensor([[ 0.3085,  0.3855],\n",
            "        [-0.1712,  0.2294]])\n"
          ]
        }
      ]
    },
    {
      "cell_type": "code",
      "source": [
        "x = torch.rand(2, 2)\n",
        "y = torch.rand(2, 2)\n",
        "print(x)\n",
        "print(y)\n",
        "z = x * y\n",
        "print(z)"
      ],
      "metadata": {
        "colab": {
          "base_uri": "https://localhost:8080/"
        },
        "id": "rzn66H-Gp8MC",
        "outputId": "d7c0c1ad-cf18-4177-d9a7-b6fd8a2c15d8"
      },
      "execution_count": 22,
      "outputs": [
        {
          "output_type": "stream",
          "name": "stdout",
          "text": [
            "tensor([[0.8544, 0.0730],\n",
            "        [0.1779, 0.8006]])\n",
            "tensor([[0.1231, 0.0574],\n",
            "        [0.2622, 0.0701]])\n",
            "tensor([[0.1052, 0.0042],\n",
            "        [0.0467, 0.0561]])\n"
          ]
        }
      ]
    },
    {
      "cell_type": "code",
      "source": [
        "x = torch.rand(2, 2)\n",
        "y = torch.rand(2, 2)\n",
        "print(x)\n",
        "print(y)\n",
        "z = torch.mul(x, y)\n",
        "print(z)"
      ],
      "metadata": {
        "colab": {
          "base_uri": "https://localhost:8080/"
        },
        "id": "U5J6_ZTEuZe-",
        "outputId": "59bb09e6-d58b-45a6-a2c0-e85bdbc2ab54"
      },
      "execution_count": 23,
      "outputs": [
        {
          "output_type": "stream",
          "name": "stdout",
          "text": [
            "tensor([[0.4831, 0.9808],\n",
            "        [0.2235, 0.4685]])\n",
            "tensor([[0.5459, 0.5594],\n",
            "        [0.1941, 0.8754]])\n",
            "tensor([[0.2637, 0.5487],\n",
            "        [0.0434, 0.4101]])\n"
          ]
        }
      ]
    },
    {
      "cell_type": "code",
      "source": [
        "x = torch.rand(2, 2)\n",
        "y = torch.rand(2, 2)\n",
        "print(x)\n",
        "print(y)\n",
        "y.mul_(x)\n",
        "print(y)"
      ],
      "metadata": {
        "colab": {
          "base_uri": "https://localhost:8080/"
        },
        "id": "GquvqSC2udVC",
        "outputId": "b5a5deb3-ae23-4e66-ec15-26af78334089"
      },
      "execution_count": 24,
      "outputs": [
        {
          "output_type": "stream",
          "name": "stdout",
          "text": [
            "tensor([[0.2958, 0.8243],\n",
            "        [0.0531, 0.3394]])\n",
            "tensor([[0.3092, 0.9519],\n",
            "        [0.2753, 0.1422]])\n",
            "tensor([[0.0915, 0.7847],\n",
            "        [0.0146, 0.0483]])\n"
          ]
        }
      ]
    },
    {
      "cell_type": "code",
      "source": [
        "x = torch.rand(2, 2)\n",
        "y = torch.rand(2, 2)\n",
        "print(x)\n",
        "print(y)\n",
        "z = x / y\n",
        "print(z)"
      ],
      "metadata": {
        "colab": {
          "base_uri": "https://localhost:8080/"
        },
        "id": "WuYn2E6oug0n",
        "outputId": "d0ca461c-4e49-4b20-8d50-564ec9a1665f"
      },
      "execution_count": 25,
      "outputs": [
        {
          "output_type": "stream",
          "name": "stdout",
          "text": [
            "tensor([[0.2024, 0.3769],\n",
            "        [0.3729, 0.4620]])\n",
            "tensor([[0.0434, 0.1765],\n",
            "        [0.7181, 0.6648]])\n",
            "tensor([[4.6612, 2.1352],\n",
            "        [0.5193, 0.6949]])\n"
          ]
        }
      ]
    },
    {
      "cell_type": "code",
      "source": [
        "x = torch.rand(2, 2)\n",
        "y = torch.rand(2, 2)\n",
        "print(x)\n",
        "print(y)\n",
        "z = torch.div(x, y)\n",
        "print(z)"
      ],
      "metadata": {
        "colab": {
          "base_uri": "https://localhost:8080/"
        },
        "id": "MJ_nR9rs1Ifq",
        "outputId": "143f7100-69a4-4f44-fbc5-fe6f167ec5f0"
      },
      "execution_count": 26,
      "outputs": [
        {
          "output_type": "stream",
          "name": "stdout",
          "text": [
            "tensor([[0.1855, 0.3424],\n",
            "        [0.4276, 0.3650]])\n",
            "tensor([[0.3012, 0.2628],\n",
            "        [0.8424, 0.8079]])\n",
            "tensor([[0.6159, 1.3030],\n",
            "        [0.5076, 0.4517]])\n"
          ]
        }
      ]
    },
    {
      "cell_type": "code",
      "source": [
        "x = torch.rand(2, 2)\n",
        "y = torch.rand(2, 2)\n",
        "print(x)\n",
        "print(y)\n",
        "y.div_(x)\n",
        "print(y)"
      ],
      "metadata": {
        "colab": {
          "base_uri": "https://localhost:8080/"
        },
        "id": "ktas8vQ41MW3",
        "outputId": "82546b5d-e1bd-40a5-db90-4eb32e2937d0"
      },
      "execution_count": 27,
      "outputs": [
        {
          "output_type": "stream",
          "name": "stdout",
          "text": [
            "tensor([[0.0456, 0.5876],\n",
            "        [0.5983, 0.3406]])\n",
            "tensor([[0.0140, 0.7111],\n",
            "        [0.1220, 0.4575]])\n",
            "tensor([[0.3064, 1.2102],\n",
            "        [0.2039, 1.3431]])\n"
          ]
        }
      ]
    },
    {
      "cell_type": "code",
      "source": [
        "x = torch.rand(5, 3)\n",
        "print(x)\n",
        "print(x[:, 0])"
      ],
      "metadata": {
        "colab": {
          "base_uri": "https://localhost:8080/"
        },
        "id": "iV-pl-ok1QJW",
        "outputId": "fbb6fc15-f50c-4bd6-f36e-9ff406ceb4db"
      },
      "execution_count": 30,
      "outputs": [
        {
          "output_type": "stream",
          "name": "stdout",
          "text": [
            "tensor([[0.1460, 0.7097, 0.7493],\n",
            "        [0.7908, 0.9119, 0.7880],\n",
            "        [0.0641, 0.9806, 0.3420],\n",
            "        [0.8072, 0.0878, 0.4290],\n",
            "        [0.0186, 0.8764, 0.0051]])\n",
            "tensor([0.1460, 0.7908, 0.0641, 0.8072, 0.0186])\n"
          ]
        }
      ]
    },
    {
      "cell_type": "code",
      "source": [
        "x = torch.rand(5, 3)\n",
        "print(x[0,0])\n",
        "print(x[0,0].item())"
      ],
      "metadata": {
        "colab": {
          "base_uri": "https://localhost:8080/"
        },
        "id": "SGZ6vRDP3fmC",
        "outputId": "0a640322-bcb1-48f3-9549-7a6f442d1315"
      },
      "execution_count": 32,
      "outputs": [
        {
          "output_type": "stream",
          "name": "stdout",
          "text": [
            "tensor(0.8855)\n",
            "0.8854544758796692\n"
          ]
        }
      ]
    },
    {
      "cell_type": "code",
      "source": [
        "x = torch.rand(4, 4)\n",
        "print(x)\n",
        "y = x.view(16)\n",
        "print(y)"
      ],
      "metadata": {
        "colab": {
          "base_uri": "https://localhost:8080/"
        },
        "id": "LdXDCqoQ3zO0",
        "outputId": "f026022a-57b0-49ae-e5dd-b2a8fb4d49b8"
      },
      "execution_count": 35,
      "outputs": [
        {
          "output_type": "stream",
          "name": "stdout",
          "text": [
            "tensor([[0.2817, 0.7367, 0.5479, 0.4533],\n",
            "        [0.9851, 0.5052, 0.9534, 0.4043],\n",
            "        [0.1497, 0.0860, 0.5449, 0.7280],\n",
            "        [0.5435, 0.2908, 0.7159, 0.7549]])\n",
            "tensor([0.2817, 0.7367, 0.5479, 0.4533, 0.9851, 0.5052, 0.9534, 0.4043, 0.1497,\n",
            "        0.0860, 0.5449, 0.7280, 0.5435, 0.2908, 0.7159, 0.7549])\n"
          ]
        }
      ]
    },
    {
      "cell_type": "code",
      "source": [
        "x = torch.rand(4, 4)\n",
        "print(x)\n",
        "y = x.view(-1, 8)\n",
        "print(y)"
      ],
      "metadata": {
        "colab": {
          "base_uri": "https://localhost:8080/"
        },
        "id": "Z1X6SfdA485n",
        "outputId": "6de0ccb8-1c8d-4924-ee82-b62d8aa11621"
      },
      "execution_count": 36,
      "outputs": [
        {
          "output_type": "stream",
          "name": "stdout",
          "text": [
            "tensor([[0.5230, 0.4818, 0.9641, 0.1360],\n",
            "        [0.7590, 0.8321, 0.9969, 0.7105],\n",
            "        [0.7168, 0.8336, 0.6255, 0.8609],\n",
            "        [0.0346, 0.0319, 0.1714, 0.9052]])\n",
            "tensor([[0.5230, 0.4818, 0.9641, 0.1360, 0.7590, 0.8321, 0.9969, 0.7105],\n",
            "        [0.7168, 0.8336, 0.6255, 0.8609, 0.0346, 0.0319, 0.1714, 0.9052]])\n"
          ]
        }
      ]
    },
    {
      "cell_type": "code",
      "source": [
        "x = torch.rand(4, 4)\n",
        "print(x)\n",
        "y = x.view(-1, 2)\n",
        "print(y)"
      ],
      "metadata": {
        "colab": {
          "base_uri": "https://localhost:8080/"
        },
        "id": "pTRkm3b754iF",
        "outputId": "2316b77d-cd72-4f81-dbc2-d1f3f1a20bb5"
      },
      "execution_count": 37,
      "outputs": [
        {
          "output_type": "stream",
          "name": "stdout",
          "text": [
            "tensor([[0.3690, 0.9625, 0.6110, 0.9163],\n",
            "        [0.3352, 0.0044, 0.2447, 0.7138],\n",
            "        [0.6236, 0.4695, 0.3570, 0.8801],\n",
            "        [0.3034, 0.0538, 0.7691, 0.2300]])\n",
            "tensor([[0.3690, 0.9625],\n",
            "        [0.6110, 0.9163],\n",
            "        [0.3352, 0.0044],\n",
            "        [0.2447, 0.7138],\n",
            "        [0.6236, 0.4695],\n",
            "        [0.3570, 0.8801],\n",
            "        [0.3034, 0.0538],\n",
            "        [0.7691, 0.2300]])\n"
          ]
        }
      ]
    },
    {
      "cell_type": "code",
      "source": [
        "import numpy as np"
      ],
      "metadata": {
        "id": "Pd7XVcUu5_ah"
      },
      "execution_count": 39,
      "outputs": []
    },
    {
      "cell_type": "code",
      "source": [
        "a = torch.ones(5)\n",
        "print(a)"
      ],
      "metadata": {
        "colab": {
          "base_uri": "https://localhost:8080/"
        },
        "id": "1Kn_CF056CPx",
        "outputId": "303430b1-1b63-46f1-9fe0-282bdbac575d"
      },
      "execution_count": 40,
      "outputs": [
        {
          "output_type": "stream",
          "name": "stdout",
          "text": [
            "tensor([1., 1., 1., 1., 1.])\n"
          ]
        }
      ]
    },
    {
      "cell_type": "code",
      "source": [
        "b = a.numpy()\n",
        "print(b)"
      ],
      "metadata": {
        "colab": {
          "base_uri": "https://localhost:8080/"
        },
        "id": "9nSF7kWo6HPp",
        "outputId": "20924c9b-fd36-450f-86cb-9ed0f84a1838"
      },
      "execution_count": 41,
      "outputs": [
        {
          "output_type": "stream",
          "name": "stdout",
          "text": [
            "[1. 1. 1. 1. 1.]\n"
          ]
        }
      ]
    },
    {
      "cell_type": "code",
      "source": [
        "print(type(b))"
      ],
      "metadata": {
        "colab": {
          "base_uri": "https://localhost:8080/"
        },
        "id": "MphXE0ji6KoL",
        "outputId": "44e5f726-9f17-47d3-a0c8-caf36473c459"
      },
      "execution_count": 42,
      "outputs": [
        {
          "output_type": "stream",
          "name": "stdout",
          "text": [
            "<class 'numpy.ndarray'>\n"
          ]
        }
      ]
    },
    {
      "cell_type": "code",
      "source": [
        "print(type(a))"
      ],
      "metadata": {
        "colab": {
          "base_uri": "https://localhost:8080/"
        },
        "id": "nzCCOwFt6Ogd",
        "outputId": "473b28e8-8ea8-4dd9-f84c-cbb4bb7c12a1"
      },
      "execution_count": 43,
      "outputs": [
        {
          "output_type": "stream",
          "name": "stdout",
          "text": [
            "<class 'torch.Tensor'>\n"
          ]
        }
      ]
    },
    {
      "cell_type": "code",
      "source": [
        "a.add_(1)"
      ],
      "metadata": {
        "colab": {
          "base_uri": "https://localhost:8080/"
        },
        "id": "N49_-tWo6Qsm",
        "outputId": "19bb68b4-8cbb-491a-86fa-c70ab92dc824"
      },
      "execution_count": 45,
      "outputs": [
        {
          "output_type": "execute_result",
          "data": {
            "text/plain": [
              "tensor([2., 2., 2., 2., 2.])"
            ]
          },
          "metadata": {},
          "execution_count": 45
        }
      ]
    },
    {
      "cell_type": "code",
      "source": [
        "print(a)\n",
        "print(b)"
      ],
      "metadata": {
        "colab": {
          "base_uri": "https://localhost:8080/"
        },
        "id": "dj4Yxu_g6e3f",
        "outputId": "d53f9e92-ad00-4e11-f704-9e2d48440edc"
      },
      "execution_count": 46,
      "outputs": [
        {
          "output_type": "stream",
          "name": "stdout",
          "text": [
            "tensor([2., 2., 2., 2., 2.])\n",
            "[2. 2. 2. 2. 2.]\n"
          ]
        }
      ]
    },
    {
      "cell_type": "markdown",
      "source": [
        "Both a and b are changed because both point to the same memory location."
      ],
      "metadata": {
        "id": "tEf4NM6H6j-4"
      }
    },
    {
      "cell_type": "code",
      "source": [
        "a = np.ones(5)\n",
        "print(a)"
      ],
      "metadata": {
        "colab": {
          "base_uri": "https://localhost:8080/"
        },
        "id": "CtjCbeqK6isd",
        "outputId": "91ce5ed5-5b6c-4eaf-9eb6-65804b1ab2a0"
      },
      "execution_count": 47,
      "outputs": [
        {
          "output_type": "stream",
          "name": "stdout",
          "text": [
            "[1. 1. 1. 1. 1.]\n"
          ]
        }
      ]
    },
    {
      "cell_type": "code",
      "source": [
        "b = torch.from_numpy(a)\n",
        "print(b)"
      ],
      "metadata": {
        "colab": {
          "base_uri": "https://localhost:8080/"
        },
        "id": "aEdn8GBD6xF4",
        "outputId": "35755600-d122-48e0-e6e0-f185a0a271f2"
      },
      "execution_count": 48,
      "outputs": [
        {
          "output_type": "stream",
          "name": "stdout",
          "text": [
            "tensor([1., 1., 1., 1., 1.], dtype=torch.float64)\n"
          ]
        }
      ]
    },
    {
      "cell_type": "code",
      "source": [
        "a += 1\n",
        "print(a)\n",
        "print(b)"
      ],
      "metadata": {
        "colab": {
          "base_uri": "https://localhost:8080/"
        },
        "id": "yaF63dIv63fg",
        "outputId": "5969599f-f13c-49f5-9d95-b06f85ef8c6d"
      },
      "execution_count": 49,
      "outputs": [
        {
          "output_type": "stream",
          "name": "stdout",
          "text": [
            "[2. 2. 2. 2. 2.]\n",
            "tensor([2., 2., 2., 2., 2.], dtype=torch.float64)\n"
          ]
        }
      ]
    },
    {
      "cell_type": "code",
      "source": [
        "x = torch.ones(5, requires_grad=True)\n",
        "print(x)"
      ],
      "metadata": {
        "colab": {
          "base_uri": "https://localhost:8080/"
        },
        "id": "baYS4Tgg6-3E",
        "outputId": "235ee8ac-0e9b-4515-8dc8-fd3d8e505590"
      },
      "execution_count": 50,
      "outputs": [
        {
          "output_type": "stream",
          "name": "stdout",
          "text": [
            "tensor([1., 1., 1., 1., 1.], requires_grad=True)\n"
          ]
        }
      ]
    },
    {
      "cell_type": "code",
      "source": [],
      "metadata": {
        "id": "VIFfN4J77-1q"
      },
      "execution_count": null,
      "outputs": []
    }
  ]
}