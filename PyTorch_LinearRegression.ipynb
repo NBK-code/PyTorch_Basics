{
  "nbformat": 4,
  "nbformat_minor": 0,
  "metadata": {
    "colab": {
      "provenance": [],
      "authorship_tag": "ABX9TyO/rVsrJ3C8R6kWFbPIqiNH",
      "include_colab_link": true
    },
    "kernelspec": {
      "name": "python3",
      "display_name": "Python 3"
    },
    "language_info": {
      "name": "python"
    }
  },
  "cells": [
    {
      "cell_type": "markdown",
      "metadata": {
        "id": "view-in-github",
        "colab_type": "text"
      },
      "source": [
        "<a href=\"https://colab.research.google.com/github/NBK-code/PyTorch_Basics/blob/main/PyTorch_LinearRegression.ipynb\" target=\"_parent\"><img src=\"https://colab.research.google.com/assets/colab-badge.svg\" alt=\"Open In Colab\"/></a>"
      ]
    },
    {
      "cell_type": "code",
      "execution_count": 1,
      "metadata": {
        "id": "625bVhkNe07B"
      },
      "outputs": [],
      "source": [
        "import torch\n",
        "import torch.nn as nn\n",
        "import numpy as np\n",
        "from sklearn import datasets\n",
        "import matplotlib.pyplot as plt"
      ]
    },
    {
      "cell_type": "code",
      "source": [
        "X_numpy, y_numpy = datasets.make_regression(n_samples=100, \n",
        "                                            n_features = 1, \n",
        "                                            noise = 20, \n",
        "                                            random_state = 1)"
      ],
      "metadata": {
        "id": "xEjezAfifKiD"
      },
      "execution_count": 2,
      "outputs": []
    },
    {
      "cell_type": "code",
      "source": [
        "X = torch.from_numpy(X_numpy.astype(np.float32))\n",
        "y = torch.from_numpy(y_numpy.astype(np.float32))"
      ],
      "metadata": {
        "id": "Jd1ZhUutf0G6"
      },
      "execution_count": 3,
      "outputs": []
    },
    {
      "cell_type": "code",
      "source": [
        "print(X.shape)"
      ],
      "metadata": {
        "colab": {
          "base_uri": "https://localhost:8080/"
        },
        "id": "CMn4kHC4gQ7P",
        "outputId": "83a6c64d-b11d-4ec6-ee07-30661a5b3545"
      },
      "execution_count": 5,
      "outputs": [
        {
          "output_type": "stream",
          "name": "stdout",
          "text": [
            "torch.Size([100, 1])\n"
          ]
        }
      ]
    },
    {
      "cell_type": "code",
      "source": [
        "print(y.shape)"
      ],
      "metadata": {
        "colab": {
          "base_uri": "https://localhost:8080/"
        },
        "id": "j0VYsITbgSNn",
        "outputId": "3d4c3954-04b5-4471-c39c-e27641ad25c9"
      },
      "execution_count": 6,
      "outputs": [
        {
          "output_type": "stream",
          "name": "stdout",
          "text": [
            "torch.Size([100])\n"
          ]
        }
      ]
    },
    {
      "cell_type": "code",
      "source": [
        "y = y.view(y.shape[0], 1)"
      ],
      "metadata": {
        "id": "VNt6trvSga2v"
      },
      "execution_count": 8,
      "outputs": []
    },
    {
      "cell_type": "code",
      "source": [
        "print(y.shape)"
      ],
      "metadata": {
        "colab": {
          "base_uri": "https://localhost:8080/"
        },
        "id": "vM7AADc_gl4B",
        "outputId": "4b7eeb6d-860b-49ac-cdd1-a871e7cb557d"
      },
      "execution_count": 9,
      "outputs": [
        {
          "output_type": "stream",
          "name": "stdout",
          "text": [
            "torch.Size([100, 1])\n"
          ]
        }
      ]
    },
    {
      "cell_type": "code",
      "source": [
        "n_samples, n_features = X.shape"
      ],
      "metadata": {
        "id": "VnKiYNvWgnjP"
      },
      "execution_count": 10,
      "outputs": []
    },
    {
      "cell_type": "code",
      "source": [
        "input_size = n_features\n",
        "output_size = 1"
      ],
      "metadata": {
        "id": "3UuLF2RiiGJ7"
      },
      "execution_count": 11,
      "outputs": []
    },
    {
      "cell_type": "code",
      "source": [
        "model = nn.Linear(input_size, output_size)"
      ],
      "metadata": {
        "id": "JxscDDJMh8uN"
      },
      "execution_count": 12,
      "outputs": []
    },
    {
      "cell_type": "code",
      "source": [
        "criterion = nn.MSELoss()"
      ],
      "metadata": {
        "id": "U8_r4uGsiSvX"
      },
      "execution_count": 13,
      "outputs": []
    },
    {
      "cell_type": "code",
      "source": [
        "learning_rate = 0.01"
      ],
      "metadata": {
        "id": "sXdHNrrrirN2"
      },
      "execution_count": 15,
      "outputs": []
    },
    {
      "cell_type": "code",
      "source": [
        "optimizer = torch.optim.SGD(model.parameters(), \n",
        "                            lr = learning_rate)"
      ],
      "metadata": {
        "id": "ff0O8eNOifW4"
      },
      "execution_count": 16,
      "outputs": []
    },
    {
      "cell_type": "code",
      "source": [
        "num_epochs = 100\n",
        "\n",
        "for epoch in range(num_epochs):\n",
        "\n",
        "  y_predicted = model(X)\n",
        "\n",
        "  loss = criterion(y_predicted, y)\n",
        "\n",
        "  loss.backward()\n",
        "\n",
        "  optimizer.step()\n",
        "\n",
        "  optimizer.zero_grad()\n",
        "\n",
        "  if epoch%10 == 0:\n",
        "    print(\"epochs: \", epoch+1, \"loss: \", loss.item())"
      ],
      "metadata": {
        "colab": {
          "base_uri": "https://localhost:8080/"
        },
        "id": "EZ5_JU80ixtW",
        "outputId": "1b261bdd-26fe-4510-e717-e4596435f479"
      },
      "execution_count": 20,
      "outputs": [
        {
          "output_type": "stream",
          "name": "stdout",
          "text": [
            "epochs:  1 loss:  333.0009460449219\n",
            "epochs:  11 loss:  332.88494873046875\n",
            "epochs:  21 loss:  332.79998779296875\n",
            "epochs:  31 loss:  332.7378234863281\n",
            "epochs:  41 loss:  332.6922607421875\n",
            "epochs:  51 loss:  332.6589050292969\n",
            "epochs:  61 loss:  332.63446044921875\n",
            "epochs:  71 loss:  332.6165771484375\n",
            "epochs:  81 loss:  332.6034851074219\n",
            "epochs:  91 loss:  332.5938720703125\n"
          ]
        }
      ]
    },
    {
      "cell_type": "code",
      "source": [
        "predicted = model(X).detach().numpy()"
      ],
      "metadata": {
        "id": "0cb5H65YkT9I"
      },
      "execution_count": 21,
      "outputs": []
    },
    {
      "cell_type": "code",
      "source": [
        "plt.plot(X_numpy, y_numpy, 'ro')\n",
        "plt.plot(X_numpy, predicted, 'b')\n",
        "plt.show()"
      ],
      "metadata": {
        "colab": {
          "base_uri": "https://localhost:8080/",
          "height": 268
        },
        "id": "iQgf8ne0mD1I",
        "outputId": "af749a98-c0e3-4b72-93a3-1a3568825449"
      },
      "execution_count": 22,
      "outputs": [
        {
          "output_type": "display_data",
          "data": {
            "text/plain": [
              "<Figure size 432x288 with 1 Axes>"
            ],
            "image/png": "[encoded data removed]"
          },
          "metadata": {
            "needs_background": "light"
          }
        }
      ]
    },
    {
      "cell_type": "code",
      "source": [],
      "metadata": {
        "id": "l1rWTNJlmOtQ"
      },
      "execution_count": null,
      "outputs": []
    }
  ]
}