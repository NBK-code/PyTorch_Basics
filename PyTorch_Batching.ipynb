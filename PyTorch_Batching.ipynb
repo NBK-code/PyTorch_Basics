{
  "nbformat": 4,
  "nbformat_minor": 0,
  "metadata": {
    "colab": {
      "provenance": [],
      "authorship_tag": "ABX9TyM5i/foog08ZnBP14vneAdy",
      "include_colab_link": true
    },
    "kernelspec": {
      "name": "python3",
      "display_name": "Python 3"
    },
    "language_info": {
      "name": "python"
    }
  },
  "cells": [
    {
      "cell_type": "markdown",
      "metadata": {
        "id": "view-in-github",
        "colab_type": "text"
      },
      "source": [
        "<a href=\"https://colab.research.google.com/github/NBK-code/PyTorch_Basics/blob/main/PyTorch_Batching.ipynb\" target=\"_parent\"><img src=\"https://colab.research.google.com/assets/colab-badge.svg\" alt=\"Open In Colab\"/></a>"
      ]
    },
    {
      "cell_type": "code",
      "execution_count": 1,
      "metadata": {
        "id": "-zavD-dWnRPu"
      },
      "outputs": [],
      "source": [
        "import torch\n",
        "import torchvision\n",
        "from torch.utils.data import Dataset, DataLoader\n",
        "import numpy as np\n",
        "import math"
      ]
    },
    {
      "cell_type": "code",
      "source": [
        "class WineDataset(Dataset):\n",
        "  def __init__(self):\n",
        "    # data loading\n",
        "    xy = np.loadtxt('/content/wine.csv', \n",
        "                    delimiter = ',', \n",
        "                    dtype = np.float32, \n",
        "                    skiprows = 1)\n",
        "    self.x = torch.from_numpy(xy[:, 1:])\n",
        "    self.y = torch.from_numpy(xy[:, [0]]) #size = (n_sample,1)\n",
        "    self.n_sample = xy.shape[0]\n",
        "\n",
        "  def __getitem__(self, index):\n",
        "    # dataset indexing\n",
        "    return self.x[index], self.y[index]\n",
        "\n",
        "  def __len__(self):\n",
        "    # len(dataset)\n",
        "    return self.n_sample"
      ],
      "metadata": {
        "id": "XzKMaVc0osAq"
      },
      "execution_count": 9,
      "outputs": []
    },
    {
      "cell_type": "code",
      "source": [
        "dataset = WineDataset()"
      ],
      "metadata": {
        "id": "REjOQfWyrgPH"
      },
      "execution_count": 10,
      "outputs": []
    },
    {
      "cell_type": "code",
      "source": [
        "first_data = dataset[0]"
      ],
      "metadata": {
        "id": "IHIzWkyorimU"
      },
      "execution_count": 11,
      "outputs": []
    },
    {
      "cell_type": "code",
      "source": [
        "print(first_data)"
      ],
      "metadata": {
        "colab": {
          "base_uri": "https://localhost:8080/"
        },
        "id": "ZlUxRpXcroSG",
        "outputId": "87fe9a29-0f55-4daa-ea49-0038847c945e"
      },
      "execution_count": 12,
      "outputs": [
        {
          "output_type": "stream",
          "name": "stdout",
          "text": [
            "(tensor([1.4230e+01, 1.7100e+00, 2.4300e+00, 1.5600e+01, 1.2700e+02, 2.8000e+00,\n",
            "        3.0600e+00, 2.8000e-01, 2.2900e+00, 5.6400e+00, 1.0400e+00, 3.9200e+00,\n",
            "        1.0650e+03]), tensor([1.]))\n"
          ]
        }
      ]
    },
    {
      "cell_type": "code",
      "source": [
        "dataloader = DataLoader(dataset = dataset, \n",
        "                        batch_size = 4, \n",
        "                        shuffle = True, \n",
        "                        num_workers = 2)"
      ],
      "metadata": {
        "id": "esLJYG6fsYek"
      },
      "execution_count": 13,
      "outputs": []
    },
    {
      "cell_type": "code",
      "source": [
        "dataiter = iter(dataloader)\n",
        "data = next(dataiter)\n",
        "features, labels = data\n",
        "print(features, labels)"
      ],
      "metadata": {
        "colab": {
          "base_uri": "https://localhost:8080/"
        },
        "id": "WPHTch8os0g7",
        "outputId": "482bf9ce-50e1-43eb-cd5f-d70a5cb436a4"
      },
      "execution_count": 15,
      "outputs": [
        {
          "output_type": "stream",
          "name": "stdout",
          "text": [
            "tensor([[1.3880e+01, 1.8900e+00, 2.5900e+00, 1.5000e+01, 1.0100e+02, 3.2500e+00,\n",
            "         3.5600e+00, 1.7000e-01, 1.7000e+00, 5.4300e+00, 8.8000e-01, 3.5600e+00,\n",
            "         1.0950e+03],\n",
            "        [1.2000e+01, 9.2000e-01, 2.0000e+00, 1.9000e+01, 8.6000e+01, 2.4200e+00,\n",
            "         2.2600e+00, 3.0000e-01, 1.4300e+00, 2.5000e+00, 1.3800e+00, 3.1200e+00,\n",
            "         2.7800e+02],\n",
            "        [1.3580e+01, 2.5800e+00, 2.6900e+00, 2.4500e+01, 1.0500e+02, 1.5500e+00,\n",
            "         8.4000e-01, 3.9000e-01, 1.5400e+00, 8.6600e+00, 7.4000e-01, 1.8000e+00,\n",
            "         7.5000e+02],\n",
            "        [1.4160e+01, 2.5100e+00, 2.4800e+00, 2.0000e+01, 9.1000e+01, 1.6800e+00,\n",
            "         7.0000e-01, 4.4000e-01, 1.2400e+00, 9.7000e+00, 6.2000e-01, 1.7100e+00,\n",
            "         6.6000e+02]]) tensor([[1.],\n",
            "        [2.],\n",
            "        [3.],\n",
            "        [3.]])\n"
          ]
        }
      ]
    },
    {
      "cell_type": "code",
      "source": [
        "num_epochs = 2\n",
        "total_samples = len(dataset)\n",
        "n_iterations = math.ceil(total_samples/4)\n",
        "print(total_samples, n_iterations)"
      ],
      "metadata": {
        "colab": {
          "base_uri": "https://localhost:8080/"
        },
        "id": "VqavU35Std3i",
        "outputId": "50319318-efa6-49c8-845f-cbd17010e38d"
      },
      "execution_count": 16,
      "outputs": [
        {
          "output_type": "stream",
          "name": "stdout",
          "text": [
            "178 45\n"
          ]
        }
      ]
    },
    {
      "cell_type": "code",
      "source": [
        "for epoch in range(num_epochs):\n",
        "\n",
        "  for i, (inputs, labels) in enumerate(dataloader):\n",
        "    if (i+1)%5 == 0:\n",
        "      print(\"epoch: \", epoch+1, \"step: \", i+1, \"input size: \", inputs.shape)"
      ],
      "metadata": {
        "colab": {
          "base_uri": "https://localhost:8080/"
        },
        "id": "eJV41cNAudeO",
        "outputId": "377a6815-9191-4458-bd69-b8273ac9390a"
      },
      "execution_count": 18,
      "outputs": [
        {
          "output_type": "stream",
          "name": "stdout",
          "text": [
            "epoch:  1 step:  5 input size:  torch.Size([4, 13])\n",
            "epoch:  1 step:  10 input size:  torch.Size([4, 13])\n",
            "epoch:  1 step:  15 input size:  torch.Size([4, 13])\n",
            "epoch:  1 step:  20 input size:  torch.Size([4, 13])\n",
            "epoch:  1 step:  25 input size:  torch.Size([4, 13])\n",
            "epoch:  1 step:  30 input size:  torch.Size([4, 13])\n",
            "epoch:  1 step:  35 input size:  torch.Size([4, 13])\n",
            "epoch:  1 step:  40 input size:  torch.Size([4, 13])\n",
            "epoch:  1 step:  45 input size:  torch.Size([2, 13])\n",
            "epoch:  2 step:  5 input size:  torch.Size([4, 13])\n",
            "epoch:  2 step:  10 input size:  torch.Size([4, 13])\n",
            "epoch:  2 step:  15 input size:  torch.Size([4, 13])\n",
            "epoch:  2 step:  20 input size:  torch.Size([4, 13])\n",
            "epoch:  2 step:  25 input size:  torch.Size([4, 13])\n",
            "epoch:  2 step:  30 input size:  torch.Size([4, 13])\n",
            "epoch:  2 step:  35 input size:  torch.Size([4, 13])\n",
            "epoch:  2 step:  40 input size:  torch.Size([4, 13])\n",
            "epoch:  2 step:  45 input size:  torch.Size([2, 13])\n"
          ]
        }
      ]
    },
    {
      "cell_type": "code",
      "source": [],
      "metadata": {
        "id": "NTnkBJr1vHCq"
      },
      "execution_count": null,
      "outputs": []
    }
  ]
}